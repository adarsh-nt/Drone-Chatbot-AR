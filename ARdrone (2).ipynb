{
 "cells": [
  {
   "cell_type": "code",
   "execution_count": 1,
   "id": "a98aa3d0-10a0-4279-991f-539ff395f362",
   "metadata": {},
   "outputs": [
    {
     "name": "stdout",
     "output_type": "stream",
     "text": [
      "Defaulting to user installation because normal site-packages is not writeable\n",
      "Requirement already satisfied: modin[ray] in /opt/intel/oneapi/modin/0.23.0.0/lib/python3.9/site-packages (0.23.0)\n",
      "Collecting daal4py\n",
      "  Downloading daal4py-2024.1.0-py39-none-manylinux1_x86_64.whl (10.1 MB)\n",
      "\u001b[2K     \u001b[90m━━━━━━━━━━━━━━━━━━━━━━━━━━━━━━━━━━━━━━━\u001b[0m \u001b[32m10.1/10.1 MB\u001b[0m \u001b[31m155.0 kB/s\u001b[0m eta \u001b[36m0:00:00\u001b[0m00:01\u001b[0m00:02\u001b[0m\n",
      "\u001b[?25hCollecting scikit-learn-intelex\n",
      "  Downloading scikit_learn_intelex-2024.1.0-py39-none-manylinux1_x86_64.whl (131 kB)\n",
      "\u001b[2K     \u001b[90m━━━━━━━━━━━━━━━━━━━━━━━━━━━━━━━━━━━━━\u001b[0m \u001b[32m131.8/131.8 kB\u001b[0m \u001b[31m193.8 kB/s\u001b[0m eta \u001b[36m0:00:00\u001b[0ma \u001b[36m0:00:01\u001b[0m\n",
      "\u001b[?25hRequirement already satisfied: pandas<2.1,>=2 in /opt/intel/oneapi/modin/0.23.0.0/lib/python3.9/site-packages (from modin[ray]) (2.0.3)\n",
      "Requirement already satisfied: packaging in /opt/intel/oneapi/modin/0.23.0.0/lib/python3.9/site-packages (from modin[ray]) (23.1)\n",
      "Requirement already satisfied: numpy>=1.18.5 in /opt/intel/oneapi/modin/0.23.0.0/lib/python3.9/site-packages (from modin[ray]) (1.24.3)\n",
      "Requirement already satisfied: fsspec in /home/ud49f71938d904f879c5e58249b3b0db/.local/lib/python3.9/site-packages (from modin[ray]) (2023.9.2)\n",
      "Requirement already satisfied: psutil in /opt/intel/oneapi/modin/0.23.0.0/lib/python3.9/site-packages (from modin[ray]) (5.9.5)\n",
      "Requirement already satisfied: ray[default]!=2.5.0,>=1.13.0 in /opt/intel/oneapi/modin/0.23.0.0/lib/python3.9/site-packages (from modin[ray]) (2.6.1)\n",
      "Requirement already satisfied: pyarrow in /opt/intel/oneapi/modin/0.23.0.0/lib/python3.9/site-packages (from modin[ray]) (12.0.1)\n",
      "Requirement already satisfied: pydantic<2 in /opt/intel/oneapi/modin/0.23.0.0/lib/python3.9/site-packages (from modin[ray]) (1.10.12)\n",
      "Collecting daal==2024.1.0 (from daal4py)\n",
      "  Downloading daal-2024.1.0-py2.py3-none-manylinux1_x86_64.whl (75.3 MB)\n",
      "\u001b[2K     \u001b[90m━━━━━━━━━━━━━━━━━━━━━━━━━━━━━━━━━━━━━━━\u001b[0m \u001b[32m75.3/75.3 MB\u001b[0m \u001b[31m203.5 kB/s\u001b[0m eta \u001b[36m0:00:00\u001b[0m00:01\u001b[0m00:12\u001b[0m\n",
      "\u001b[?25hCollecting tbb==2021.* (from daal==2024.1.0->daal4py)\n",
      "  Downloading tbb-2021.11.0-py2.py3-none-manylinux1_x86_64.whl (5.4 MB)\n",
      "\u001b[2K     \u001b[90m━━━━━━━━━━━━━━━━━━━━━━━━━━━━━━━━━━━━━━━━\u001b[0m \u001b[32m5.4/5.4 MB\u001b[0m \u001b[31m103.2 kB/s\u001b[0m eta \u001b[36m0:00:00\u001b[0m00:01\u001b[0m00:02\u001b[0m\n",
      "\u001b[?25hCollecting scikit-learn>=0.22 (from scikit-learn-intelex)\n",
      "  Downloading scikit_learn-1.4.0-1-cp39-cp39-manylinux_2_17_x86_64.manylinux2014_x86_64.whl (12.1 MB)\n",
      "\u001b[2K     \u001b[90m━━━━━━━━━━━━━━━━━━━━━━━━━━━━━━━━━━━━━━━\u001b[0m \u001b[32m12.1/12.1 MB\u001b[0m \u001b[31m113.5 kB/s\u001b[0m eta \u001b[36m0:00:00\u001b[0m00:01\u001b[0m00:04\u001b[0m\n",
      "\u001b[?25hRequirement already satisfied: python-dateutil>=2.8.2 in /opt/intel/oneapi/modin/0.23.0.0/lib/python3.9/site-packages (from pandas<2.1,>=2->modin[ray]) (2.8.2)\n",
      "Requirement already satisfied: pytz>=2020.1 in /opt/intel/oneapi/modin/0.23.0.0/lib/python3.9/site-packages (from pandas<2.1,>=2->modin[ray]) (2023.3)\n",
      "Requirement already satisfied: tzdata>=2022.1 in /opt/intel/oneapi/modin/0.23.0.0/lib/python3.9/site-packages (from pandas<2.1,>=2->modin[ray]) (2023.3)\n",
      "Requirement already satisfied: typing-extensions>=4.2.0 in /home/ud49f71938d904f879c5e58249b3b0db/.local/lib/python3.9/site-packages (from pydantic<2->modin[ray]) (4.9.0)\n",
      "Requirement already satisfied: scipy>=1.6.0 in /home/ud49f71938d904f879c5e58249b3b0db/.local/lib/python3.9/site-packages (from scikit-learn>=0.22->scikit-learn-intelex) (1.12.0)\n",
      "Requirement already satisfied: joblib>=1.2.0 in /home/ud49f71938d904f879c5e58249b3b0db/.local/lib/python3.9/site-packages (from scikit-learn>=0.22->scikit-learn-intelex) (1.3.2)\n",
      "Collecting threadpoolctl>=2.0.0 (from scikit-learn>=0.22->scikit-learn-intelex)\n",
      "  Downloading threadpoolctl-3.2.0-py3-none-any.whl (15 kB)\n",
      "Requirement already satisfied: six>=1.5 in /opt/intel/oneapi/modin/0.23.0.0/lib/python3.9/site-packages (from python-dateutil>=2.8.2->pandas<2.1,>=2->modin[ray]) (1.16.0)\n",
      "Installing collected packages: tbb, threadpoolctl, daal, scikit-learn, daal4py, scikit-learn-intelex\n",
      "Successfully installed daal-2024.1.0 daal4py-2024.1.0 scikit-learn-1.4.0 scikit-learn-intelex-2024.1.0 tbb-2021.11.0 threadpoolctl-3.2.0\n",
      "Note: you may need to restart the kernel to use updated packages.\n"
     ]
    }
   ],
   "source": [
    "pip install modin[ray] daal4py scikit-learn-intelex"
   ]
  },
  {
   "cell_type": "code",
   "execution_count": null,
   "id": "4cb260ed-ee63-4dcc-a3fc-7728e031cd1d",
   "metadata": {},
   "outputs": [],
   "source": [
    "import modin.pandas as pd\n",
    "from modin.config import Engine\n",
    "\n",
    "# Set Modin to use Ray as the execution backend\n",
    "Engine.put(\"ray\")\n",
    "\n",
    "import ray\n",
    "ray.init()  # Initialize Ray\n"
   ]
  },
  {
   "cell_type": "code",
   "execution_count": 1,
   "id": "cf95d4a9-b456-4dc0-9caa-bc8ae88e08f7",
   "metadata": {},
   "outputs": [
    {
     "name": "stderr",
     "output_type": "stream",
     "text": [
      "Intel(R) Extension for Scikit-learn* enabled (https://github.com/intel/scikit-learn-intelex)\n"
     ]
    }
   ],
   "source": [
    "from sklearnex import patch_sklearn\n",
    "patch_sklearn()  # Automatically patches scikit-learn to use optimized versions\n"
   ]
  },
  {
   "cell_type": "code",
   "execution_count": 1,
   "id": "ab007b83-e4e4-49a3-8c20-e49b91eb8eb9",
   "metadata": {},
   "outputs": [],
   "source": [
    "import daal4py as d4p"
   ]
  },
  {
   "cell_type": "code",
   "execution_count": null,
   "id": "67f1c69d-1aac-4ffb-bbe1-ce3ec2be5e45",
   "metadata": {},
   "outputs": [],
   "source": [
    "# Step 1: Import Required Libraries\n",
    "import modin.pandas as pd\n",
    "from modin.config import Engine\n",
    "from sklearnex import patch_sklearn\n",
    "import re\n",
    "from nltk.stem import WordNetLemmatizer\n",
    "from transformers import AutoTokenizer, AutoModelForCausalLM\n"
   ]
  },
  {
   "cell_type": "code",
   "execution_count": 2,
   "id": "5cc80ae7-8548-4fa1-8b84-1fb8a9d4f746",
   "metadata": {},
   "outputs": [
    {
     "name": "stderr",
     "output_type": "stream",
     "text": [
      "[nltk_data] Downloading package stopwords to\n",
      "[nltk_data]     /home/ud49f71938d904f879c5e58249b3b0db/nltk_data...\n",
      "[nltk_data]   Package stopwords is already up-to-date!\n",
      "[nltk_data] Downloading package wordnet to\n",
      "[nltk_data]     /home/ud49f71938d904f879c5e58249b3b0db/nltk_data...\n",
      "[nltk_data]   Package wordnet is already up-to-date!\n"
     ]
    },
    {
     "data": {
      "text/plain": [
       "True"
      ]
     },
     "execution_count": 2,
     "metadata": {},
     "output_type": "execute_result"
    }
   ],
   "source": [
    "import nltk\n",
    "# Download necessary NLTK data\n",
    "nltk.download('stopwords')\n",
    "nltk.download('wordnet')\n"
   ]
  },
  {
   "cell_type": "code",
   "execution_count": 1,
   "id": "79971aa2-7e78-4bae-81ee-fbd881bffadc",
   "metadata": {},
   "outputs": [
    {
     "name": "stdout",
     "output_type": "stream",
     "text": [
      "Defaulting to user installation because normal site-packages is not writeable\n",
      "Collecting openpyxl\n",
      "  Downloading openpyxl-3.1.2-py2.py3-none-any.whl (249 kB)\n",
      "\u001b[2K     \u001b[90m━━━━━━━━━━━━━━━━━━━━━━━━━━━━━━━━━━━━━\u001b[0m \u001b[32m250.0/250.0 kB\u001b[0m \u001b[31m413.4 kB/s\u001b[0m eta \u001b[36m0:00:00\u001b[0ma \u001b[36m0:00:01\u001b[0m\n",
      "\u001b[?25hCollecting et-xmlfile (from openpyxl)\n",
      "  Downloading et_xmlfile-1.1.0-py3-none-any.whl (4.7 kB)\n",
      "Installing collected packages: et-xmlfile, openpyxl\n",
      "Successfully installed et-xmlfile-1.1.0 openpyxl-3.1.2\n"
     ]
    }
   ],
   "source": [
    "\n",
    "!pip install openpyxl\n"
   ]
  },
  {
   "cell_type": "code",
   "execution_count": 1,
   "id": "1a4f7fc1-d54f-4e4f-979c-e7d5526e1eb0",
   "metadata": {},
   "outputs": [
    {
     "name": "stdin",
     "output_type": "stream",
     "text": [
      "Enter your query:  Autonomous fleet management\n"
     ]
    },
    {
     "name": "stdout",
     "output_type": "stream",
     "text": [
      "Selected Relevant Responses:\n",
      "Title: INDOOR AUTONOMOUS NAVIGATION SYSTEM\n",
      "Abstract: A system for autonomous navigation within an enclosed area is provided. The system can have a remote control station having a route management system operable to determine a flight plan. The system can further have a device configured for unmanned operation having a transceiver operable to receive the flight plan from the remote control station. The device can have a memory operable to store the flight plan and an electromagnetic (EM) map of the enclosed area. The device can have a location determination sensor (LDS) operable to determine a three dimensional position of the device within the enclosed area based on the EM map. The device can then execute the flight plan based on the three dimensional position and the EM map.\n",
      "\n",
      "Title: APPARATUS AND METHOD FOR CONTROLLING AN UNMANNED VEHICLE\n",
      "Abstract: In one or more embodiments, an apparatus and method for operating an unmanned and autonomous vehicle includes a sensor management module configured to direct sensors as to what function they are to provide; a mission management module configured to provide execute function capabilities; an effects management module configured to provide launching and directing weapons to their target capabilities; a vehicle management module; a situation awareness management module configured to provide correlate sensor data of objects, threats, targets, geographic points of interest that the pilot requires in the immediate environment; a communications management module; an information management module configured to provide a database of intelligence-related data; a middleware module configured to interface with the sensor management module, the mission management module, the effects management module, the vehicle management module, the situation awareness management module, the communications management module, and the information management module.\n",
      "\n",
      "Title: IOT DEVICES\n",
      "Abstract: A method of operating an Internet of Things (loT) device, the loT device capable of communicating with a third-party system in order to perform an autonomous task subject to authorisation by an loT authorisation device, the method comprising: sending operating parameters relating to the autonomous task to a user for approval; receiving user-approved operating parameters for the autonomous task; configuring the loT device to perform the autonomous task within the user approved operating parameters; registering the user approved operating parameters with the loT device management server to enable the loT authorisation device to check that the loT device is operating within the user-approved operating parameters when it performs an autonomous task with the third-party system.\n",
      "\n",
      "Title: ASSET MANAGEMENT MONITORING\n",
      "Abstract: Techniques are described for an autonomous asset management system that integrates autonomous devices, such as drone devices and other robotic devices, with a home security system of a property to enable management, monitoring, and/or tracking of various assets located within the property. In some implementations, an indication of an asset associated with a property is obtained by an autonomous device. Sensor data collected by one or more sensors of the property is obtained by the autonomous device based on the indication of the asset. A present status of the asset is determined by the autonomous device based on the sensor data. A determination that the present status of the asset does not correspond to an expected status of the asset is made by the autonomous device. In response, the autonomous device navigates to the particular location of the property.\n",
      "\n",
      "Title: AUTONOMOUS AERIAL SYSTEM AND METHOD\n",
      "Abstract: An indoor autonomous aerial system and method that uses micro aerial vehicle/s (MAV/s). Said system is configured to be deployable and operable in reduced GPS signal reception expansive spaces and the MAV/s is/are configured to be automatically guided and perform tasks at desired location/s, transmit/receive data, present various signs, etc. Said system and method can be used for various purposes such as, advertisement, inventory management, guidance, warning, search and rescue, etc.\n",
      "\n"
     ]
    }
   ],
   "source": [
    "import os\n",
    "\n",
    "try:\n",
    "    import pandas as pd\n",
    "except ImportError:\n",
    "    os.system('pip install pandas')\n",
    "    import pandas as pd\n",
    "\n",
    "from collections import defaultdict\n",
    "import re\n",
    "\n",
    "# Adjust this path to where your cleaned_data.xlsx file is located in the cloud environment\n",
    "dataset_path = 'cleaned_data.xlsx'\n",
    "\n",
    "# Initialize df to None to detect if it's set later\n",
    "df = None\n",
    "\n",
    "try:\n",
    "    df = pd.read_excel(dataset_path)\n",
    "except Exception as e:\n",
    "    print(f\"Failed to read the Excel file from '{dataset_path}'. Error: {e}\")\n",
    "\n",
    "if df is not None:\n",
    "    query = input(\"Enter your query: \")\n",
    "    keywords = set(re.findall(r'\\w+', query.lower()))\n",
    "\n",
    "    abstract_scores = defaultdict(int)\n",
    "    for index, row in df.iterrows():\n",
    "        abstract_keywords = set(re.findall(r'\\w+', str(row['Abstract']).lower()))\n",
    "        relevance_score = len(keywords.intersection(abstract_keywords))\n",
    "\n",
    "        if relevance_score > 0:\n",
    "            abstract_scores[(row['Title'], row['Abstract'])] = relevance_score\n",
    "\n",
    "    selected_responses = sorted(abstract_scores, key=abstract_scores.get, reverse=True)[:5]\n",
    "\n",
    "    if selected_responses:\n",
    "        print(\"Selected Relevant Responses:\")\n",
    "        for title, abstract in selected_responses:\n",
    "            print(f\"Title: {title}\")\n",
    "            print(f\"Abstract: {abstract}\\n\")\n",
    "    else:\n",
    "        print(\"No relevant responses found.\")\n",
    "else:\n",
    "    print(\"The program cannot proceed without the dataset.\")\n"
   ]
  },
  {
   "cell_type": "code",
   "execution_count": null,
   "id": "b91d8ee7-27c5-4121-bd79-15cdc5dc547d",
   "metadata": {},
   "outputs": [],
   "source": []
  }
 ],
 "metadata": {
  "kernelspec": {
   "display_name": "modin",
   "language": "python",
   "name": "modin"
  },
  "language_info": {
   "codemirror_mode": {
    "name": "ipython",
    "version": 3
   },
   "file_extension": ".py",
   "mimetype": "text/x-python",
   "name": "python",
   "nbconvert_exporter": "python",
   "pygments_lexer": "ipython3",
   "version": "3.9.16"
  }
 },
 "nbformat": 4,
 "nbformat_minor": 5
}
